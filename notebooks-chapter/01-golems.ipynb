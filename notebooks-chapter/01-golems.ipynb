{
 "cells": [
  {
   "cell_type": "markdown",
   "id": "303e4026-e08f-49bb-adc7-31e0b6f756a8",
   "metadata": {},
   "source": [
    "# Chapter 1 The Golem of Prague\n"
   ]
  },
  {
   "cell_type": "markdown",
   "id": "c6d225ac-fbb3-4bc1-a96b-38f008f022f2",
   "metadata": {},
   "source": [
    "## Section 1.1 Statistical golems\n",
    "\n",
    "Scientists make golems.\n",
    "\n",
    "- McElreath draws this metaphor from Collins and Pinch (1998), _The Golem: What You Should Know about Science_. It is very similar to E. T. Jaynes’ 2003 metaphor of statistical models as robots, although with a less precise and more monstruous implication. \n",
    "- Jaynes, E. T. (2003). _Probability Theory: The Logic of Science._ Cambridge University Press.\n",
    "\n",
    "As George Box put it, \"all models are wrong, but some are useful.\" Statistical models are engineered constructs for some purpose.\n",
    "\n",
    "The golem is a prosthesis, doing the heavy duty work for us, but there are no wisdom in it. It does not discern whether the context is appropriate for its answers. It just knows its own procedure. Viewed this way, statistics is neither mathematics nor a science, but rather a branch of engineering. \n",
    "\n",
    "And like engineering, a common set of design principles and constraints produces a great diversity of specialized applications. This is what students in their introductory statistics get confused about. All the golems are preconstructed for them, each having a particular purpose. It is hard to grasp the unity of these procedures.\n",
    "\n",
    "Moreover, these things are not enough for research. They can fail in unpredictable ways, and they are not flexible to adapt. Furthermore, statistical golems do not understand cause and effect. \n",
    "\n",
    "What we need is some unified theory of golem engineering, a set of principles for designing, building, and refining special-purpose golems. But this theory is never taught anywhere at universities.\n",
    "\n",
    "![golem-decision-tree](../images/golem-decision-tree.png)\n"
   ]
  },
  {
   "cell_type": "markdown",
   "id": "2f5e057f-5b8f-4e32-8619-4cccc35fa4a9",
   "metadata": {},
   "source": [
    "## Section 1.2 Statistical rethinking\n",
    "\n",
    "Learning Outcomes: to understand why doing science is not doing logical falsification.\n",
    "\n",
    "We need to understand the computational inner workings of the golems. And we also need to pass the conceptual obstacles with how to define statistical objectives and interpret statistical results. We need some statistical epistemology, an appreciation of how statistical models relate to hypotheses and the natural mechanisms of interest.\n",
    "\n",
    "Karl Popper argued that science advances by falsifying hypotheses. So maybe the gold standard of statistical procedures is to falsify hypotheses. But that's a kind of folk Popperism. In fact, deductive falsification is impossible in nearly every scientific context. \n",
    "\n",
    "1. Hypotheses are not models. Many hypotheses correspond to one model, and many models correspond to one hypothesis. \n",
    "2. Measurement matters. Sometimes another observer will debate our methods and measures. Sometimes they are right.\n",
    "\n",
    "If you still believe science does often work, then knowing that it doesn't work via falsification will enlighten you to do better science.\n",
    "\n",
    "**Rethinking: is NHST falsificationist? (and is Bayesian inference inductive?)**\n",
    "- [Confirmationist and falsificationist paradigms of science](https://statmodeling.stat.columbia.edu/2014/09/05/confirmationist-falsificationist-paradigms-science/) by Andrew Gelman (2014)\n",
    "- [Philosophy and the practice of Bayesian statistics](http://www.stat.columbia.edu/~gelman/research/published/philosophy.pdf) by Gelman and Shalizi (2014)\n"
   ]
  },
  {
   "cell_type": "markdown",
   "id": "ad6e3eb7-04ac-4735-aa51-cbfb54710f7e",
   "metadata": {},
   "source": [
    "**1.2.1. Hypotheses are not models**\n",
    "\n",
    "One hypothesis can derive several process/causal models. You can use such models to probe their causal implications. Sometimes these probes reveal, before we turn to statistical inference, that the model cannot explain a phenomenon of interest. In order to challenge process models with data, they have to be made into statistical models, but statistical models can correspond to many causal models.\n",
    "\n",
    "**Rethinking: Entropy and model identification.** Nature loves entropy. More in Chapter 10. \"The practical implication is\n",
    "that one can no more infer evolutionary process from a power law than one can infer developmental\n",
    "process from the fact that height is normally distributed. This fact should make us humble about what\n",
    "typical regression models—the meat of this book—can teach us about mechanistic process. On the\n",
    "other hand, the maximum entropy nature of these distributions means we can use them to do useful\n",
    "statistical work, even when we can’t identify the underlying process. Not only can we not identify it,\n",
    "but we don’t have to.\"\n",
    "\n",
    "**1.2.2. Measurement matters.**\n",
    "\n",
    "We once had an hypothesis $H_0: \\text{All swans are white}$. It only took one observation of black swan after we discovered Australia to reject this. But generally seeking disconfirming evidence cannot be as powerful as the swan story makes it appear.\n",
    "\n",
    "&ensp;&thinsp;&ensp;&thinsp;_1.2.2.1. Observation error._ The ability to measure a hypothetical phenomenon is often in question as much as the phenomenon itself. If there is only one black swan in the whole earth, it's hard to disprove $H_0$ even if it only takes one black swan.\n",
    "\n",
    "&ensp;&thinsp;&ensp;&thinsp;_1.2.2.2 Continuous hypotheses._ Another problem for the swan story: most interesting scientific hypotheses are rather of the kind $H_0: \\text{80% of the swans are white.}$\n",
    "\n",
    "**1.2.3. Falsification is consensual.** Scientific communities argue towards consensus about the meaning of evidence. Falsification is not logical, but some textbooks misrepresent the history (of arguments) so it appears like logical falsification. Such revisionism may make science as an easy target by promoting an easily attacked model of scientific epistemology. And it may hurt the public by exaggerating the definitiveness of scientific knowledge."
   ]
  },
  {
   "cell_type": "markdown",
   "id": "1c4ff856-3717-4afe-9564-df7f1d40abcb",
   "metadata": {},
   "source": [
    "## Section 1.3 Tools for golem engineering\n",
    "\n",
    "The goal here is to reduce chances of easily wrecking Prague. Make no mistake, you will wreck Prague eventually. But if you're a good golem engineer, you'll notice the destruction and figure out why, then your next golem won't be as bad. \n",
    "\n",
    "We want our models for several purposes: \n",
    "- designing inquiry, \n",
    "- extracting information from data, and \n",
    "- making predictions. \n",
    "\n",
    "We have tools including Bayesian data analysis, model comparison, multilevel models, and graphical causal models.\n",
    "\n",
    "**1.3.1. Bayesian data analysis.** How should we use data to learn about the world? Bayesian data analysis takes a question in the form of a model and uses logic to produce an answer in the form of probability distributions. Why does the Bayesian way make more sense? When Galileo first discovered the ring of Saturn with a primitive telescope, he observed some blob, not the clear shape (uncertainty). The sampling procedure here is always deterministic, but the blob always existed there until greater technology came into being. The resampling way of thinking does not make sense, but we can still use probability to help modeling the uncertain shape of Saturn.\n",
    "\n",
    "Note that there is a tradition of using Bayesian tools as a normative description of rational belief, a tradition called **Bayesianism**. This book neither describes nor advocates it. \n",
    "\n",
    "- Further reading: [Rational Decisions](https://press.princeton.edu/books/paperback/9780691149899/rational-decisions) by Ken Binmore, 2009."
   ]
  },
  {
   "cell_type": "code",
   "execution_count": null,
   "id": "9da16f92-808d-4037-be5c-94a4c812249f",
   "metadata": {},
   "outputs": [],
   "source": []
  }
 ],
 "metadata": {
  "kernelspec": {
   "display_name": "Python 3 (ipykernel)",
   "language": "python",
   "name": "python3"
  },
  "language_info": {
   "codemirror_mode": {
    "name": "ipython",
    "version": 3
   },
   "file_extension": ".py",
   "mimetype": "text/x-python",
   "name": "python",
   "nbconvert_exporter": "python",
   "pygments_lexer": "ipython3",
   "version": "3.10.6"
  }
 },
 "nbformat": 4,
 "nbformat_minor": 5
}
