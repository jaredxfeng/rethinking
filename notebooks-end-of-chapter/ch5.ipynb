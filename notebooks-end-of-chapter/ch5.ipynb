{
 "cells": [
  {
   "cell_type": "code",
   "execution_count": 1,
   "id": "d9addae7-0166-455a-8357-b5f0c3fedf58",
   "metadata": {
    "tags": []
   },
   "outputs": [],
   "source": [
    "import pandas as pd\n",
    "from pandas import DataFrame as dframe\n",
    "import arviz as az\n",
    "import matplotlib.pyplot as plt\n",
    "import seaborn as sns\n",
    "import numpy as np\n",
    "from numpy.random import choice\n",
    "\n",
    "from jax import random, vmap\n",
    "import jax.numpy as jnp\n",
    "import numpyro\n",
    "import numpyro.distributions as dist\n",
    "from numpyro import sample, plate, param, deterministic\n",
    "from numpyro.optim import Adam, Minimize\n",
    "from numpyro.infer.autoguide import AutoLaplaceApproximation\n",
    "from numpyro.diagnostics import hpdi, print_summary\n",
    "from numpyro.infer import SVI, Trace_ELBO, init_to_value, Predictive\n",
    "\n",
    "import utils\n",
    "from utils import dotdict\n",
    "from utils.data import data, scale\n",
    "from utils.analysis import * # precis, cov2cor\n",
    "from utils.stats import * # r::stats functions (rnorm, dnorm, ...)\n",
    "from utils.plots import init_dag, scatter, shade\n",
    "utils.init() # init plotting styles and hush warnings\n",
    "np.random.seed(8964) # seed"
   ]
  },
  {
   "cell_type": "markdown",
   "id": "86e26907-04cc-4bbd-b2a7-f45cadac8c99",
   "metadata": {},
   "source": [
    "## Easy"
   ]
  },
  {
   "cell_type": "markdown",
   "id": "34c7e654-fe14-4d16-ac15-671479ad0b93",
   "metadata": {},
   "source": [
    "### 5E1"
   ]
  },
  {
   "cell_type": "markdown",
   "id": "671943ed-f7c4-4172-bb8b-a1aead962e1b",
   "metadata": {},
   "source": [
    "(2) and (4)."
   ]
  },
  {
   "cell_type": "markdown",
   "id": "0b0a5b61-9b07-44d1-b754-209058cd11b7",
   "metadata": {},
   "source": [
    "### 5E2"
   ]
  },
  {
   "cell_type": "markdown",
   "id": "e7ed26fd-0faa-4d46-a79b-19523d85505f",
   "metadata": {},
   "source": [
    "$\\mu_i = \\alpha + \\beta_L L + \\beta_P P$, where $\\mu_i$ is the mean animal diversity, $L$ is the latitude, and $P$ is the plant diversity. "
   ]
  },
  {
   "cell_type": "markdown",
   "id": "5048e919-1757-4a09-93b8-729d1dc7d00c",
   "metadata": {},
   "source": [
    "### 5E3"
   ]
  },
  {
   "cell_type": "markdown",
   "id": "4ecd941d-2a55-467c-9f58-c6063d6ca9be",
   "metadata": {},
   "source": [
    "$\\mu_i = \\alpha + \\beta_F F + \\beta_S S$, where $\\mu_i$ is the mean time to PhD, $F$ is the amount of funding, and $S$ is the labatory size. Both slope parameters should be positive. "
   ]
  },
  {
   "cell_type": "markdown",
   "id": "1d400865-fef6-4862-a5e6-413528c1d399",
   "metadata": {},
   "source": [
    "### 5E4"
   ]
  },
  {
   "cell_type": "markdown",
   "id": "3b26b070-209c-4437-94b7-85f5f9c8be7f",
   "metadata": {},
   "source": [
    "(1), (3), (4), and (5) inferential equivalent.\n",
    "\n",
    "(4) and (5) are just equivalent, not only inferential equivalent. "
   ]
  },
  {
   "cell_type": "markdown",
   "id": "c050f914-ac94-4c8a-957d-bba28e2b746c",
   "metadata": {},
   "source": [
    "## Medium"
   ]
  },
  {
   "cell_type": "markdown",
   "id": "788ee7bd-56c2-4956-a430-e206fbae251f",
   "metadata": {},
   "source": [
    "### 5M1"
   ]
  },
  {
   "cell_type": "code",
   "execution_count": 8,
   "id": "af84ac80-7762-414a-aa13-757bdc3e9cdd",
   "metadata": {
    "tags": []
   },
   "outputs": [
    {
     "data": {
      "image/png": "[encoded data removed]",
      "text/plain": [
       "<Figure size 265.748x167.323 with 1 Axes>"
      ]
     },
     "metadata": {},
     "output_type": "display_data"
    }
   ],
   "source": [
    "dag5m1 = init_dag()\n",
    "dag5m1.add_node(\"X\", \"X\", 1, 1)\n",
    "dag5m1.add_node(\"T\", \"T\", 0, 0)\n",
    "dag5m1.add_node(\"Y\", \"Y\", 2, 0)\n",
    "dag5m1.add_edge(\"X\", \"T\")\n",
    "dag5m1.add_edge(\"X\", \"Y\")\n",
    "dag5m1.show()"
   ]
  },
  {
   "cell_type": "markdown",
   "id": "56334281-c479-43f6-bbfc-724b10a0aff1",
   "metadata": {},
   "source": [
    "$X$ is some characteristic of patients, $T$ is the treatment, and $Y$ is whether a patient recovers. If there is no direct effect $T$ on $Y$, and we regress $T$ on $Y$, we will see non-zero coefficient. But once we add $X$ to the regression model, the slope for $T$ will vanish."
   ]
  },
  {
   "cell_type": "markdown",
   "id": "65631bb4-7a16-42b8-a76b-45e03da3787e",
   "metadata": {},
   "source": [
    "### 5M2"
   ]
  },
  {
   "cell_type": "code",
   "execution_count": 18,
   "id": "b0a1f5f6-d643-4c6b-88ae-e6a22e5eecfe",
   "metadata": {
    "tags": []
   },
   "outputs": [
    {
     "data": {
      "image/png": "[encoded data removed]",
      "text/plain": [
       "<Figure size 265.748x167.323 with 1 Axes>"
      ]
     },
     "metadata": {},
     "output_type": "display_data"
    }
   ],
   "source": [
    "dag5m1 = init_dag()\n",
    "dag5m1.add_node(\"Train\", \"Train\", -1, 1)\n",
    "dag5m1.add_node(\"Gain\", \"Gain\", 0, 0)\n",
    "dag5m1.add_node(\"Injury\", \"Injury\", 1, 1)\n",
    "dag5m1.add_edge(\"Train\", \"Gain\")\n",
    "dag5m1.add_edge(\"Injury\", \"Gain\")\n",
    "dag5m1.add_edge(\"Train\", \"Injury\")\n",
    "dag5m1.show()"
   ]
  },
  {
   "cell_type": "markdown",
   "id": "5777f745-c135-4de5-aa3f-9a2087f6297d",
   "metadata": {},
   "source": [
    "### 5M3"
   ]
  },
  {
   "cell_type": "code",
   "execution_count": null,
   "id": "653c3ab9-0b82-4059-a851-56823f457697",
   "metadata": {},
   "outputs": [],
   "source": []
  }
 ],
 "metadata": {
  "kernelspec": {
   "display_name": "Python 3 (ipykernel)",
   "language": "python",
   "name": "python3"
  },
  "language_info": {
   "codemirror_mode": {
    "name": "ipython",
    "version": 3
   },
   "file_extension": ".py",
   "mimetype": "text/x-python",
   "name": "python",
   "nbconvert_exporter": "python",
   "pygments_lexer": "ipython3",
   "version": "3.10.6"
  }
 },
 "nbformat": 4,
 "nbformat_minor": 5
}
